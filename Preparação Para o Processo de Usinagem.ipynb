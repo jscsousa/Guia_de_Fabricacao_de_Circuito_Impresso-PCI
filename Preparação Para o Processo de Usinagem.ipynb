{
 "cells": [
  {
   "cell_type": "markdown",
   "metadata": {},
   "source": [
    "# Preparação Para o Processo de Usinagem"
   ]
  }
 ],
 "metadata": {
  "language_info": {
   "name": "python"
  }
 },
 "nbformat": 4,
 "nbformat_minor": 2
}
