{
 "cells": [
  {
   "cell_type": "markdown",
   "metadata": {},
   "source": [
    "# Preparação Para o Processo de Usinagem"
   ]
  },
  {
   "cell_type": "markdown",
   "metadata": {},
   "source": [
    "O processo de usinagem consiste em utilizar a técnica de fresagem para isolar as trilhas do circuito impresso. Este processo envolve várias etapas, que serão detalhadas a seguir, para garantir um resultado preciso e funcional.\n"
   ]
  },
  {
   "cell_type": "markdown",
   "metadata": {},
   "source": [
    "### 1. Utilização do FlatCAM\n",
    "\n"
   ]
  },
  {
   "cell_type": "markdown",
   "metadata": {},
   "source": [
    "O FlatCAM é um software utilizado para preparar arquivos de fresagem a partir do layout do circuito (arquivo Gerber). Ele permite definir os parâmetros necessários para o processo de usinagem, como: Furos, Bordas e Trilhas. É essencial ajustar corretamente as profundidades de corte, as velocidades e as dimensões das fresas, de acordo com o material utilizado.\n",
    "  \n"
   ]
  },
  {
   "cell_type": "markdown",
   "metadata": {},
   "source": [
    "O primeiro passo e exportar o arquivo do projeto no formato gerber, que será compactado (zipado) e conterá todas as camadas do circuito, iremos desenvolver apenas os arquivos para o fresamento das trilhas e o contorno da placa, logo extraia os seguintes arquivos: **Gerber_BottomLayer.GBL e Gerber_BoardOutlineLayer.GKO**."
   ]
  },
  {
   "cell_type": "markdown",
   "metadata": {},
   "source": [
    "Em seguida abra os arquivos no flatcan e siga as seguintes orientações:\n",
    "1. Selecione todo a área da placa, clique no ícone **Edit > Move to Origin**, para colocar a placa na origem;\n",
    "2. Ainda com a área selecionada, clique em **Options > Flip on X axis**, para desespelhar o arquivo;\n"
   ]
  },
  {
   "cell_type": "markdown",
   "metadata": {},
   "source": [
    "Se necessário, consulte o processo no Video 7 disponivel em: https://youtu.be/t-JSCH6NtCQ."
   ]
  },
  {
   "cell_type": "markdown",
   "metadata": {},
   "source": [
    "### Configuração das Camadas"
   ]
  },
  {
   "cell_type": "markdown",
   "metadata": {},
   "source": [
    "\n",
    "*1. Configuração para as trilhas (Gerber_BottomLayer.GBL)*\n"
   ]
  },
  {
   "cell_type": "markdown",
   "metadata": {},
   "source": [
    "Selecionamos o arquivo correspondente as trilhas, em seguida iniciamos as configurações na ferramanenta **Isolation Routing**,  insira 0,37 mm sendo o diametro da ferramenta e **\"V\"** para representar a fresa v-bit.\n"
   ]
  },
  {
   "cell_type": "markdown",
   "metadata": {},
   "source": [
    "Em seguida gere a geometria em **Generation Isolation Geometry** e insira os seguintes parametros:\n",
    "\n",
    "1. **V-Tip Angle**: 37º (para uma descida em Z de -0,40 mm; note que a fresa real tem 80º).\n",
    "\n",
    "2. **Travel Z**: 1 mm (altura para deslocamentos fora da superfície).\n",
    "3. **Feedrate X-Y**: 100 mm/min (velocidade de fresagem nos eixos X e Y).\n",
    "\n",
    "4. **Feedrate Z**: 50 mm/min (velocidade de fresagem no eixo Z, reduzida para maior controle).\n",
    "\n",
    "5. **Spindle speed**:1200 RPM (velocidade do spindle).\n",
    "\n",
    "6. **End move Z**: 15 mm (posição final do eixo Z ao término da fresagem).\n",
    "\n",
    "7. **End Move X,Y**:(0,0) (posição final nos eixos X e Y).\n",
    "\n"
   ]
  },
  {
   "cell_type": "markdown",
   "metadata": {},
   "source": [
    "Em seguida Gere o arquivo de fresagem das trilhas clicando em **Generate CNC Job Object** e salve o codigo CNC. Acompanhe o processo no Vídeo 8 disponivel em: https://youtu.be/cgLd5N9UyFo."
   ]
  },
  {
   "cell_type": "markdown",
   "metadata": {},
   "source": [
    "*2. Configuração para o contorno da placa (Gerber_BoardOutlineLayer.GKO)*\n"
   ]
  },
  {
   "cell_type": "markdown",
   "metadata": {},
   "source": [
    "Selecionamos o arquivo correspondente ao contorno da placa (borda), em seguida iniciamos as configurações na ferramanenta **Cutout Tool**:\n",
    "\n",
    "1. Em **Tool Diameter**, coloque 3 mm sendo o diametrno da ferramenta.\n",
    "\n",
    "2. Em **Cut Z**, coloque -1,8 mm para cortar a borda da placa, adicione o **Multi-Depth** para fazer este corte em frações.\n",
    "\n",
    "3. Em e **Gap Size** coloque 2, que vai representar como se fosse pontes entre os cortes, este procedimento é feito para que a placa nao fique impenada ou saia durante o corte.\n"
   ]
  },
  {
   "cell_type": "markdown",
   "metadata": {},
   "source": [
    "Em seguida gere a geometria em **Generation Retangular Geometry** e insira os seguintes parametros:\n",
    "\n",
    "2. **Travel Z**: 1 mm (altura para deslocamentos fora da superfície).\n",
    "\n",
    "3. **Feedrate X-Y**: 80 mm/min (velocidade de fresagem nos eixos X e Y).\n",
    "\n",
    "4. **Feedrate Z**: 40 mm/min (velocidade de fresagem no eixo Z, reduzida para maior controle).\n",
    "\n",
    "5. **Spindle speed**:1200 RPM (velocidade do spindle).\n",
    "\n",
    "6. **End move Z**: 15 mm (posição final do eixo Z ao término da fresagem).\n",
    "\n",
    "7. **End Move X,Y**:(0,0) (posição final nos eixos X e Y)."
   ]
  },
  {
   "cell_type": "markdown",
   "metadata": {},
   "source": [
    "Em seguida Gere o arquivo de fresagem das trilhas clicando em **Generate CNC Job Object** e salve o codigo CNC. Acompanhe o processo no Vídeo 9 disponivel em: https://youtu.be/cKCmSoyn42g."
   ]
  },
  {
   "cell_type": "markdown",
   "metadata": {},
   "source": [
    "### 2. ferramentas minifresadora"
   ]
  },
  {
   "cell_type": "markdown",
   "metadata": {},
   "source": [
    "Para o processo de fresagem, utilize as seguintes ferramentas:\n",
    "- Fresa para trilhas: V-bit de 80º, fixada com uma pinça de 4 mm.\n",
    "- Fresa para bordas: fresa topo raiada 3mm de diametro, fixada com uma pinça de 3 mm"
   ]
  },
  {
   "cell_type": "markdown",
   "metadata": {},
   "source": [
    "Certifique-se de que a placa esteja firmemente fixada na base da fresadora. A má fixação pode comprometer a precisão do fresamento e causar falhas no circuito."
   ]
  },
  {
   "cell_type": "markdown",
   "metadata": {},
   "source": [
    "### 3. Utilização do candle"
   ]
  },
  {
   "cell_type": "markdown",
   "metadata": {},
   "source": [
    "O software Candle é utilizado para controlar a mini fresadora durante o processo de usinagem. Ele permite importar o arquivo gerado pelo FlatCAM e executar o fresamento. \n"
   ]
  },
  {
   "cell_type": "markdown",
   "metadata": {},
   "source": [
    "#### Passo a Passo:\n",
    "1. Importe o arquivo CNC gerado.\n",
    "2. Configure o ponto de origem da ferramenta na mini fresadora (zero da peça).\n",
    "3. Realize o mapeamento de altura para ajustar a descida no fresamento conforme os desníveis da placa.\n",
    "3. Inicie o processo de fresagem, monitorando a execução para evitar erros.\n"
   ]
  },
  {
   "cell_type": "markdown",
   "metadata": {},
   "source": [
    " Para mais detalhes, consulte o vídeo 10 disponível em: https://youtu.be/rLs9QhLAF-w.\n"
   ]
  },
  {
   "cell_type": "markdown",
   "metadata": {},
   "source": [
    "\n",
    "Acompanhe o fresamento do contorno da placa pela interface Candle no Vídeo 11 disponivel em: https://youtu.be/xoq0T45MUac."
   ]
  },
  {
   "cell_type": "markdown",
   "metadata": {},
   "source": [
    "Resultado final do fresamento apresentado abaixo da Figura 1."
   ]
  },
  {
   "cell_type": "markdown",
   "metadata": {},
   "source": [
    "<div align=\"center\">\n",
    "<img src=\"./imagens/PCI por usinagem.jpg\" alt=\"A\" width=\"600\">\n",
    "</div>\n"
   ]
  },
  {
   "cell_type": "markdown",
   "metadata": {},
   "source": [
    "$$\n",
    "\\text{Figura 1 - Placa por usinagem.}\n"
   ]
  },
  {
   "cell_type": "markdown",
   "metadata": {},
   "source": [
    "Recorte as bordas e tenha em maos a sua placa finalizada e pronta para colocação dos componentes e soldagem!!"
   ]
  },
  {
   "cell_type": "markdown",
   "metadata": {},
   "source": [
    "$$"
   ]
  },
  {
   "cell_type": "markdown",
   "metadata": {},
   "source": [
    "Orientações:\n",
    "- Após o finalização do fresamento fazer teste de continuidade entre a trilhas para verificar possíveis curtos."
   ]
  }
 ],
 "metadata": {
  "language_info": {
   "name": "python"
  }
 },
 "nbformat": 4,
 "nbformat_minor": 2
}
