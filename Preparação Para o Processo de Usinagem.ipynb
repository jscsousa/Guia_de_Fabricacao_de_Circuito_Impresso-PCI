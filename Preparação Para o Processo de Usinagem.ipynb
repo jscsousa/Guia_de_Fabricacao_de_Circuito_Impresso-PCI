{
 "cells": [
  {
   "cell_type": "markdown",
   "metadata": {},
   "source": [
    "# Preparação Para o Processo de Usinagem"
   ]
  },
  {
   "cell_type": "markdown",
   "metadata": {},
   "source": [
    "O processo de usinagem consiste em utilizar a técnica de fresagem para isolar as trilhas do circuito impresso. Este processo envolve várias etapas, que serão detalhadas a seguir, para garantir um resultado preciso e funcional.\n"
   ]
  },
  {
   "cell_type": "markdown",
   "metadata": {},
   "source": [
    "### 1. Utilização do FlatCAM\n",
    "- explicação da ferramenta\n",
    "- parametros: furo, borda, trilhas\n",
    "\n"
   ]
  },
  {
   "cell_type": "markdown",
   "metadata": {},
   "source": [
    "O FlatCAM é um software utilizado para preparar arquivos de fresagem a partir do layout do circuito (arquivo Gerber). Ele permite definir os parâmetros necessários para o processo de usinagem, como: Furos, Bordas e Trilhas. É essencial ajustar corretamente as profundidades de corte, as velocidades e as dimensões das fresas, de acordo com o material utilizado.\n",
    "  \n"
   ]
  },
  {
   "cell_type": "markdown",
   "metadata": {},
   "source": [
    "O primeiro passo e exportar o arquivo no formato gerber, que será um arquivo zipado com todas as camadas da placa, iremos desenvolver apenas os arquivos para o fresamento das trilhas e a borda, logo extrairemos apenas os arquivos: "
   ]
  },
  {
   "cell_type": "markdown",
   "metadata": {},
   "source": [
    "### 2. ferramentas minifresadora"
   ]
  },
  {
   "cell_type": "markdown",
   "metadata": {},
   "source": [
    "Para isolar as trilhas do circuito utiliza-se uma fresa V-bit de 80º, acoplada a uma pinça de 4 mm, para a sua fixação, para corte das bordas utiliza-se uma fresa 2 dentes, acoplada a pinça de 3 mm (VERIFICAR)."
   ]
  },
  {
   "cell_type": "markdown",
   "metadata": {},
   "source": [
    "A placa deve ser bem fixada (explicar melhor)"
   ]
  },
  {
   "cell_type": "markdown",
   "metadata": {},
   "source": [
    "### 3. Utilização do candle"
   ]
  },
  {
   "cell_type": "markdown",
   "metadata": {},
   "source": [
    "- explicão das ferramentas\n",
    "- passo a passo para usinagem\n",
    "- (apresentar resultado final)"
   ]
  },
  {
   "cell_type": "code",
   "execution_count": null,
   "metadata": {},
   "outputs": [],
   "source": []
  },
  {
   "cell_type": "markdown",
   "metadata": {},
   "source": [
    "Orientações:\n",
    "- Após o finalização do fresamento fazer teste de continuidade entre a trilhas para verificar possíveis curtos."
   ]
  }
 ],
 "metadata": {
  "language_info": {
   "name": "python"
  }
 },
 "nbformat": 4,
 "nbformat_minor": 2
}
