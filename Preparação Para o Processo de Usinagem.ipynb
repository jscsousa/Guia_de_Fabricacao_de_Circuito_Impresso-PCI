{
 "cells": [
  {
   "cell_type": "markdown",
   "metadata": {},
   "source": [
    "# Preparação Para o Processo de Usinagem"
   ]
  },
  {
   "cell_type": "markdown",
   "metadata": {},
   "source": [
    "O processo de Usinagem consiste em utilizar a fresagem para isoloção das trilhas do circuito, para desenvolver o mesmo precisamos passar por varias etapas para chegar no processo final que seram detalhados mais a frente."
   ]
  },
  {
   "cell_type": "markdown",
   "metadata": {},
   "source": [
    "### 1. Utilização do flatcan\n",
    "- explicação da ferramenta\n",
    "- parametros: furo, borda, trilhas\n",
    "\n"
   ]
  },
  {
   "cell_type": "markdown",
   "metadata": {},
   "source": [
    "### 2. ferramentas minifresadora"
   ]
  },
  {
   "cell_type": "markdown",
   "metadata": {},
   "source": [
    "Para isolar as trilhas do circuito utiliza-se uma fresa V-bit de 80º, acoplada a uma pinça de 4 mm, para a sua fixação, para corte das bordas utiliza-se uma fresa 2 dentes, acoplada a pinça de 3 mm (VERIFICAR)."
   ]
  },
  {
   "cell_type": "markdown",
   "metadata": {},
   "source": [
    "A placa deve ser bem fixada (explicar melhor)"
   ]
  },
  {
   "cell_type": "markdown",
   "metadata": {},
   "source": [
    "### 3. Utilização do candle"
   ]
  },
  {
   "cell_type": "markdown",
   "metadata": {},
   "source": [
    "- explicão das ferramentas\n",
    "- passo a passo para usinagem\n",
    "- (apresentar resultado final)"
   ]
  },
  {
   "cell_type": "code",
   "execution_count": null,
   "metadata": {},
   "outputs": [],
   "source": []
  },
  {
   "cell_type": "markdown",
   "metadata": {},
   "source": [
    "Orientações:\n",
    "- Após o finalização do fresamento fazer teste de continuidade entre a trilhas para verificar possíveis curtos."
   ]
  }
 ],
 "metadata": {
  "language_info": {
   "name": "python"
  }
 },
 "nbformat": 4,
 "nbformat_minor": 2
}
