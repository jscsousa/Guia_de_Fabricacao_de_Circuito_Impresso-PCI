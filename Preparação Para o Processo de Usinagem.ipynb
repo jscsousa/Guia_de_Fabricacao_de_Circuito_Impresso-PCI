{
 "cells": [
  {
   "cell_type": "markdown",
   "metadata": {},
   "source": [
    "# Preparação Para o Processo de Usinagem"
   ]
  },
  {
   "cell_type": "markdown",
   "metadata": {},
   "source": [
    "O processo de Usinagem consiste em utilizar a fresagem para isoloção das trilhas do circuito, para desenvolver o mesmo precisamos passar por varias etapas para chegar no processo final que seram detalhados mais a frente."
   ]
  },
  {
   "cell_type": "markdown",
   "metadata": {},
   "source": [
    "### 1. Utilização do flatcan\n",
    "- explicação da ferramenta\n",
    "- parametros: furo, borda, trilhas\n",
    "\n"
   ]
  },
  {
   "cell_type": "markdown",
   "metadata": {},
   "source": [
    "### 2. ferramentas minifresadora"
   ]
  },
  {
   "cell_type": "markdown",
   "metadata": {},
   "source": [
    "-Escolha de pinças e fresas para cada tipo de arquivo\n",
    "- fixação placa"
   ]
  },
  {
   "cell_type": "markdown",
   "metadata": {},
   "source": [
    "### 3. Utilização do candle"
   ]
  },
  {
   "cell_type": "markdown",
   "metadata": {},
   "source": [
    "- explicão das ferramentas\n",
    "- passo a passo para usinagem\n",
    "- (apresentar resultado final)"
   ]
  },
  {
   "cell_type": "code",
   "execution_count": null,
   "metadata": {},
   "outputs": [],
   "source": []
  },
  {
   "cell_type": "markdown",
   "metadata": {},
   "source": [
    "Orientações:\n",
    "- Após o finalização do fresamento fazer teste de continuidade entre a trilhas para verificar possíveis curtos."
   ]
  }
 ],
 "metadata": {
  "language_info": {
   "name": "python"
  }
 },
 "nbformat": 4,
 "nbformat_minor": 2
}
