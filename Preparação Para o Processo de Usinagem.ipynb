{
 "cells": [
  {
   "cell_type": "markdown",
   "metadata": {},
   "source": [
    "# Preparação Para o Processo de Usinagem"
   ]
  },
  {
   "cell_type": "markdown",
   "metadata": {},
   "source": [
    "O processo de usinagem consiste em utilizar a técnica de fresagem para isolar as trilhas do circuito impresso. Este processo envolve várias etapas, que serão detalhadas a seguir, para garantir um resultado preciso e funcional.\n"
   ]
  },
  {
   "cell_type": "markdown",
   "metadata": {},
   "source": [
    "### 1. Utilização do FlatCAM\n",
    "- explicação da ferramenta\n",
    "- parametros: furo, borda, trilhas\n",
    "\n"
   ]
  },
  {
   "cell_type": "markdown",
   "metadata": {},
   "source": [
    "O FlatCAM é um software utilizado para preparar arquivos de fresagem a partir do layout do circuito (arquivo Gerber). Ele permite definir os parâmetros necessários para o processo de usinagem, como: Furos, Bordas e Trilhas. É essencial ajustar corretamente as profundidades de corte, as velocidades e as dimensões das fresas, de acordo com o material utilizado.\n",
    "  \n"
   ]
  },
  {
   "cell_type": "markdown",
   "metadata": {},
   "source": [
    "O primeiro passo e exportar o arquivo no formato gerber, que será um arquivo zipado com todas as camadas da placa, iremos desenvolver apenas os arquivos para o fresamento das trilhas e a borda, logo extrairemos apenas os arquivos: Gerber_BottomLayer.GBL e Gerber_BoardOutlineLayer.GKO."
   ]
  },
  {
   "cell_type": "markdown",
   "metadata": {},
   "source": [
    "Em seguida abra os arquivos no flatcan e siga as seguintes orientações:\n",
    "1. Selecione todo a área da placa, clique no ícone **Edit > Move to Origin**, para colocar a placa na origem;\n",
    "2. Ainda com a área selecionada, clique em **Options > Flip on X axis**, para desespelhar o arquivo;\n"
   ]
  },
  {
   "cell_type": "markdown",
   "metadata": {},
   "source": [
    "Observe o mesmo no Video 7 disponivel em : https://youtu.be/t-JSCH6NtCQ."
   ]
  },
  {
   "cell_type": "markdown",
   "metadata": {},
   "source": [
    "Devemos iniciar as configurações de cada camada:\n",
    "- Gerber_BottomLayer.GBL\n"
   ]
  },
  {
   "cell_type": "markdown",
   "metadata": {},
   "source": [
    "Selecionamos o arquivo refente as trilhas, em seguida iniciamos as configurações na ferramanenta **Isolation Routing**, escreva o diametro da fresa v-bit de 0,37 mm em seguida gere a geometria. \n"
   ]
  },
  {
   "cell_type": "markdown",
   "metadata": {},
   "source": [
    "Configuração da Geometria:\n",
    "1. Em **V-Tip Angle** coloque 37 , isto representa o angulo da fresa, especificamente para que a descida em z seja de -0,40 mm, lembrando que de forma real a fresa que esta sendo usada é de 80 graus.\n",
    "2. Em **Travel Z** coloque 1 , para que a fresa levante 1 mm para fresar outro ponto.\n",
    "3. Em  **Feedrate X-Y** coloque 100, que será a velocidade que ocorrera os fresamentos nestas direçoes\n",
    "4. Em **Feedrate Z** coloque a metade 50,que será a velocidade que ocorrera os fresamentos na direção z (porque é menor) \n",
    "5. Em **Spindle speed** coloque 1200, velocidade necessaria para ligar o spindle\n",
    "6.Em **End move Z** coloque 15, para ser a posição a posição em z quando terminar a fresagem\n",
    "7.Em **End Move X,Y**coloque (0,0), para ser a posição a posição em x,y quando terminar a fresagem\n"
   ]
  },
  {
   "cell_type": "markdown",
   "metadata": {},
   "source": [
    "Em seguida gere o arquivo de trabalho da fresagem das trilhas em **Generate CNCjob object**. Acompanhe todo processo no video n, disponivel em:....."
   ]
  },
  {
   "cell_type": "markdown",
   "metadata": {},
   "source": [
    "- Gerber_BoardOutlineLayer.GKO\n"
   ]
  },
  {
   "cell_type": "markdown",
   "metadata": {},
   "source": [
    "Selecionamos o arquivo refente a borda, em seguida iniciamos as configurações na ferramanenta **Cutout Tool**, escreva o diametro da fresa v-bi de 0,37 mm em seguida gere a geometria. \n"
   ]
  },
  {
   "cell_type": "markdown",
   "metadata": {},
   "source": [
    "### 2. ferramentas minifresadora"
   ]
  },
  {
   "cell_type": "code",
   "execution_count": null,
   "metadata": {},
   "outputs": [],
   "source": []
  },
  {
   "cell_type": "markdown",
   "metadata": {},
   "source": [
    "Para isolar as trilhas do circuito utiliza-se uma fresa V-bit de 80º, acoplada a uma pinça de 4 mm, para a sua fixação, para corte das bordas utiliza-se uma fresa 2 dentes, acoplada a pinça de 3 mm (VERIFICAR)."
   ]
  },
  {
   "cell_type": "markdown",
   "metadata": {},
   "source": [
    "A placa deve ser bem fixada (explicar melhor)"
   ]
  },
  {
   "cell_type": "markdown",
   "metadata": {},
   "source": [
    "### 3. Utilização do candle"
   ]
  },
  {
   "cell_type": "markdown",
   "metadata": {},
   "source": [
    "- explicão das ferramentas\n",
    "- passo a passo para usinagem\n",
    "- (apresentar resultado final)"
   ]
  },
  {
   "cell_type": "code",
   "execution_count": null,
   "metadata": {},
   "outputs": [],
   "source": []
  },
  {
   "cell_type": "markdown",
   "metadata": {},
   "source": [
    "Orientações:\n",
    "- Após o finalização do fresamento fazer teste de continuidade entre a trilhas para verificar possíveis curtos."
   ]
  }
 ],
 "metadata": {
  "language_info": {
   "name": "python"
  }
 },
 "nbformat": 4,
 "nbformat_minor": 2
}
