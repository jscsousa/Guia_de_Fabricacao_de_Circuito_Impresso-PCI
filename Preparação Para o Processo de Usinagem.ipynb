{
 "cells": [
  {
   "cell_type": "markdown",
   "metadata": {},
   "source": [
    "# Preparação Para o Processo de Usinagem"
   ]
  },
  {
   "cell_type": "markdown",
   "metadata": {},
   "source": [
    "O processo de usinagem consiste em utilizar a técnica de fresagem para isolar as trilhas do circuito impresso. Este processo envolve várias etapas, que serão detalhadas a seguir, para garantir um resultado preciso e funcional.\n"
   ]
  },
  {
   "cell_type": "markdown",
   "metadata": {},
   "source": [
    "### 1. Utilização do FlatCAM\n",
    "\n"
   ]
  },
  {
   "cell_type": "markdown",
   "metadata": {},
   "source": [
    "O FlatCAM é um software utilizado para preparar arquivos de fresagem a partir do layout do circuito (arquivo Gerber). Ele permite definir os parâmetros necessários para o processo de usinagem, como: Furos, Bordas e Trilhas. É essencial ajustar corretamente as profundidades de corte, as velocidades e as dimensões das fresas, de acordo com o material utilizado.\n",
    "  \n"
   ]
  },
  {
   "cell_type": "markdown",
   "metadata": {},
   "source": [
    "O primeiro passo e exportar o arquivo do projeto no formato gerber, que será compactado (zipado) e conterá todas as camadas do circuito, iremos desenvolver apenas os arquivos para o fresamento das trilhas e o contorno da placa, logo extraia os seguintes arquivos: **Gerber_BottomLayer.GBL e Gerber_BoardOutlineLayer.GKO**."
   ]
  },
  {
   "cell_type": "markdown",
   "metadata": {},
   "source": [
    "Em seguida abra os arquivos no flatcan e siga as seguintes orientações:\n",
    "1. Selecione todo a área da placa, clique no ícone **Edit > Move to Origin**, para colocar a placa na origem;\n",
    "2. Ainda com a área selecionada, clique em **Options > Flip on X axis**, para desespelhar o arquivo;\n"
   ]
  },
  {
   "cell_type": "markdown",
   "metadata": {},
   "source": [
    "Se necessário, consulte o processo no Video 7 disponivel em: https://youtu.be/t-JSCH6NtCQ."
   ]
  },
  {
   "cell_type": "markdown",
   "metadata": {},
   "source": [
    "### Configuração das Camadas"
   ]
  },
  {
   "cell_type": "markdown",
   "metadata": {},
   "source": [
    "\n",
    "*1. Configuração para as trilhas (Gerber_BottomLayer.GBL)*\n"
   ]
  },
  {
   "cell_type": "markdown",
   "metadata": {},
   "source": [
    "Selecionamos o arquivo correspondente as trilhas, em seguida iniciamos as configurações na ferramanenta **Isolation Routing**,  insira 0,37 sendo o diametrno da ferramenta e **\"V\"** para representar a fresa v-bit.\n"
   ]
  },
  {
   "cell_type": "markdown",
   "metadata": {},
   "source": [
    "Em seguida gere a geometria em **Generation Isolation Geometry** e insira os seguintes parametros:\n",
    "\n",
    "1. **V-Tip Angle**: 37º (para uma descida em Z de -0,40 mm; note que a fresa real tem 80º).\n",
    "\n",
    "2. **Travel Z**: 1 mm (altura para deslocamentos fora da superfície).\n",
    "3. **Feedrate X-Y**: 100 mm/min (velocidade de fresagem nos eixos X e Y).\n",
    "\n",
    "4. **Feedrate Z**: 50 mm/min (velocidade de fresagem no eixo Z, reduzida para maior controle).\n",
    "\n",
    "5. **Spindle speed**:1200 RPM (velocidade do spindle).\n",
    "\n",
    "6. **End move Z**: 15 mm (posição final do eixo Z ao término da fresagem).\n",
    "\n",
    "7. **End Move X,Y**:(0,0) (posição final nos eixos X e Y).\n",
    "\n"
   ]
  },
  {
   "cell_type": "markdown",
   "metadata": {},
   "source": [
    "Em seguida Gere o arquivo de fresagem das trilhas clicando em **Generate CNC Job Object**. Acompanhe o processo no Vídeo 8 disponivel em: https://youtu.be/cgLd5N9UyFo."
   ]
  },
  {
   "cell_type": "markdown",
   "metadata": {},
   "source": [
    "*2. Configuração para o contorno da placa (Gerber_BoardOutlineLayer.GKO)*\n"
   ]
  },
  {
   "cell_type": "markdown",
   "metadata": {},
   "source": [
    "Selecionamos o arquivo correspondente ao contorno da placa (borda), em seguida iniciamos as configurações na ferramanenta **Cutout Tool**,  insira 3 mm sendo o diametrno da ferramenta e **\"C2\"** para representar a fresa. (falta informações)\n"
   ]
  },
  {
   "cell_type": "markdown",
   "metadata": {},
   "source": [
    "Em seguida gere a geometria em **Generation Retangular Geometry** e insira os seguintes parametros:\n",
    "\n",
    "1. .............\n",
    "2. **Travel Z**: 1 mm (altura para deslocamentos fora da superfície).\n",
    "3. **Feedrate X-Y**: 80 mm/min (velocidade de fresagem nos eixos X e Y).\n",
    "\n",
    "4. **Feedrate Z**: 40 mm/min (velocidade de fresagem no eixo Z, reduzida para maior controle).\n",
    "\n",
    "5. **Spindle speed**:1200 RPM (velocidade do spindle).\n",
    "\n",
    "6. **End move Z**: 15 mm (posição final do eixo Z ao término da fresagem).\n",
    "\n",
    "7. **End Move X,Y**:(0,0) (posição final nos eixos X e Y)."
   ]
  },
  {
   "cell_type": "markdown",
   "metadata": {},
   "source": [
    "### 2. ferramentas minifresadora"
   ]
  },
  {
   "cell_type": "markdown",
   "metadata": {},
   "source": [
    "Para o processo de fresagem, utilize as seguintes ferramentas:\n",
    "- Fresa para trilhas: V-bit de 80º, fixada com uma pinça de 4 mm.\n",
    "- Fresa para bordas: Fresa de 2 dentes, fixada com uma pinça de 3 mm"
   ]
  },
  {
   "cell_type": "markdown",
   "metadata": {},
   "source": [
    "Certifique-se de que a placa esteja firmemente fixada na base da fresadora. A má fixação pode comprometer a precisão do fresamento e causar falhas no circuito."
   ]
  },
  {
   "cell_type": "markdown",
   "metadata": {},
   "source": [
    "### 3. Utilização do candle"
   ]
  },
  {
   "cell_type": "markdown",
   "metadata": {},
   "source": [
    "O software Candle é utilizado para controlar a mini fresadora durante o processo de usinagem. Ele permite importar o arquivo gerado pelo FlatCAM e executar o fresamento. \n"
   ]
  },
  {
   "cell_type": "markdown",
   "metadata": {},
   "source": [
    "#### Passo a Passo:\n",
    "1. Importe o arquivo CNC gerado.\n",
    "2. Configure o ponto de origem da ferramenta na mini fresadora (zero da peça).\n",
    "3. Faça o mapa de altura afim de ver a altura real com os disniveis da placa, para reajustar a descida no fresamento.\n",
    "3. Inicie o processo de fresagem, monitorando a execução para evitar erros.\n"
   ]
  },
  {
   "cell_type": "markdown",
   "metadata": {},
   "source": [
    " Para mais detalhes, consulte o vídeo n° [link para o vídeo].\n"
   ]
  },
  {
   "cell_type": "markdown",
   "metadata": {},
   "source": [
    "Acompanhe o fresamento das trilhas visto pelo candle no video:\n",
    "Acompanhe o fresamento do contorno da placa visto pela interface candle no video disponivel:"
   ]
  },
  {
   "cell_type": "markdown",
   "metadata": {},
   "source": [
    "Resultado final do fresamento apresentado abaixo da figura n"
   ]
  },
  {
   "cell_type": "markdown",
   "metadata": {},
   "source": [
    "Orientações:\n",
    "- Após o finalização do fresamento fazer teste de continuidade entre a trilhas para verificar possíveis curtos."
   ]
  }
 ],
 "metadata": {
  "language_info": {
   "name": "python"
  }
 },
 "nbformat": 4,
 "nbformat_minor": 2
}
