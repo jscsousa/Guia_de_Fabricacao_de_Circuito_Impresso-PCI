{
 "cells": [
  {
   "cell_type": "markdown",
   "metadata": {},
   "source": [
    "# Preparação do Layout do Circuito Impresso"
   ]
  },
  {
   "cell_type": "markdown",
   "metadata": {},
   "source": [
    "Para iniciar o desenvolvimento do nosso circuito impresso, deve-se fazer um esboço do circuito desejado, os tipos de ligações , os componentes que seram utilizados para começar a desenvolver o mesmo, precisamos conhecer as ferramentas que iremos utilizar. "
   ]
  },
  {
   "cell_type": "markdown",
   "metadata": {},
   "source": [
    "### EasyEDA"
   ]
  },
  {
   "cell_type": "markdown",
   "metadata": {},
   "source": [
    "O EasyEDA é um software que oferece serviços de forma online e gratuita para o usuário confeccionar circuitos eletrônicos e PCI (Placa de Circuito Impresso) de maneira bem rápida e simples. Para você começar a desenvolver sua PCI,  deve fazer login no aplicativo, acessando o endereço: https://easyeda.com. "
   ]
  },
  {
   "cell_type": "markdown",
   "metadata": {},
   "source": [
    "Crie um novo projeto, selecione a versão padrão e coloque nome e descrição do mesmo, logo podemos observar a área de trabalho espaço para criação do nosso desenho, apresentada na ilustração abaixo. "
   ]
  },
  {
   "cell_type": "markdown",
   "metadata": {},
   "source": [
    "<div align=\"center\">\n",
    "<img src=\"AREA.png\" alt=\"A\" width=\"600\">\n",
    "</div>"
   ]
  },
  {
   "cell_type": "markdown",
   "metadata": {},
   "source": [
    "Na barra da lateral esquerda possui as bibliotecas utilizadas para acessar os componentes. Para utilizar o mesmo, deve apenas selecionar e arrastar para área de trabalho, a aba possui uma previa de componentes, mas você mesmo pode pesquisar e selecionar outros componentes fornecidos pela empresa ou até mesmo feitos por outros usuários."
   ]
  },
  {
   "cell_type": "markdown",
   "metadata": {},
   "source": [
    "Tutorial:"
   ]
  },
  {
   "cell_type": "markdown",
   "metadata": {},
   "source": [
    "<div align=\"center\">\n",
    "<video width=\"500\" height=\"500\" controls>\n",
    "    <source src=\"jailson.mp4\" type=\"video/mp4\">\n",
    "</video>\n",
    "</div>"
   ]
  },
  {
   "cell_type": "markdown",
   "metadata": {},
   "source": []
  }
 ],
 "metadata": {
  "kernelspec": {
   "display_name": "Python 3",
   "language": "python",
   "name": "python3"
  },
  "language_info": {
   "codemirror_mode": {
    "name": "ipython",
    "version": 3
   },
   "file_extension": ".py",
   "mimetype": "text/x-python",
   "name": "python",
   "nbconvert_exporter": "python",
   "pygments_lexer": "ipython3",
   "version": "3.10.6"
  }
 },
 "nbformat": 4,
 "nbformat_minor": 2
}
