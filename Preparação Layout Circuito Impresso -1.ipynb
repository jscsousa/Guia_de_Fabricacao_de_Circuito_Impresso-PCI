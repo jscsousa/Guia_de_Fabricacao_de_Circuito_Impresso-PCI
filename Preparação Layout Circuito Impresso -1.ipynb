{
 "cells": [
  {
   "cell_type": "markdown",
   "metadata": {},
   "source": [
    "# Preparação do Layout do Circuito Impresso"
   ]
  },
  {
   "cell_type": "markdown",
   "metadata": {},
   "source": [
    "Para iniciar o desenvolvimento do nosso circuito impresso, deve-se fazer um esboço do circuito desejado, verificar os componentes que seram utilizados e suas ligações, posteriormente, iniciar a prepação do layout. (MELHORAR TEXTO, incializar da melhor forma o guia)\n"
   ]
  },
  {
   "cell_type": "markdown",
   "metadata": {},
   "source": [
    "- ### Utilização do EasyEDA"
   ]
  },
  {
   "cell_type": "markdown",
   "metadata": {},
   "source": [
    "O EasyEDA é um software que oferece serviços de forma online e gratuita para o usuário confeccionar circuitos eletrônicos e PCI (Placa de Circuito Impresso) de maneira bem rápida e simples. Para você começar a desenvolver sua PCI,  deve fazer login no aplicativo, acessando o endereço: https://easyeda.com. "
   ]
  },
  {
   "cell_type": "markdown",
   "metadata": {},
   "source": [
    "Crie um novo projeto, selecione a versão padrão e coloque nome e descrição do mesmo, logo podemos observar a área de trabalho espaço para criação do nosso desenho, apresentada na ilustração abaixo. "
   ]
  },
  {
   "cell_type": "markdown",
   "metadata": {},
   "source": [
    "<div align=\"center\">\n",
    "<img src=\"AREA.png\" alt=\"A\" width=\"600\">\n",
    "</div>"
   ]
  },
  {
   "cell_type": "markdown",
   "metadata": {},
   "source": [
    "Na barra da lateral esquerda possui as bibliotecas utilizadas para acessar os componentes. Para utilizar o mesmo, deve apenas selecionar e arrastar para área de trabalho, a aba possui uma previa de componentes, mas você mesmo pode pesquisar e selecionar outros componentes fornecidos pela empresa ou até mesmo feitos por outros usuários."
   ]
  },
  {
   "cell_type": "markdown",
   "metadata": {},
   "source": [
    "<div align=\"center\">\n",
    "<video width=\"600\" height=\"600\" controls>\n",
    "    <source src=\"FERRAMENTAS.mp4\" type=\"video/mp4\">\n",
    "</video>\n",
    "</div>"
   ]
  },
  {
   "cell_type": "markdown",
   "metadata": {},
   "source": [
    "Para fazer as ligações dos componentes, utilizasse a tecla **W** ou selecionando o ícone de fio nas ferramentas de fiação, posicione e pressione na extremidade de um para outro componente da forma que melhor atender seu projeto. Vale ressaltar que para rotacionar um componente, utilizasse a tecla **R** ou a barra de espaço. "
   ]
  },
  {
   "cell_type": "markdown",
   "metadata": {},
   "source": [
    "<div align=\"center\">\n",
    "<video width=\"600\" height=\"600\" controls>\n",
    "    <source src=\"conexoes.mp4\" type=\"video/mp4\">\n",
    "</video>\n",
    "</div>"
   ]
  },
  {
   "cell_type": "markdown",
   "metadata": {},
   "source": [
    "- ### Conversão para PCB"
   ]
  },
  {
   "cell_type": "markdown",
   "metadata": {},
   "source": [
    "Com o nosso projeto esquemático já finalizado, deve-se salvar o projeto na barra de ferramentas superior, posteriormente selecione o ícone **Projeto > Converter esquema em PCB**."
   ]
  },
  {
   "cell_type": "markdown",
   "metadata": {},
   "source": [
    "Nesta nova aba, aparece a configuração do tamanho e estilo da placa, que se ja estiver definido pode ser colocado ou apenas passar para proxima etapa e fazer as alterar mais a frente."
   ]
  },
  {
   "cell_type": "markdown",
   "metadata": {},
   "source": [
    "<div align=\"center\">\n",
    "<img src=\"configuraçoes.png\" alt=\"A\" width=\"600\">\n",
    "</div>"
   ]
  },
  {
   "cell_type": "markdown",
   "metadata": {},
   "source": [
    "Já podemos visualizar o projeto da nossa placa de circuito, com ligações e área predefinida. Precisamos alocar os componentes para área da placa quadriculada e os reorganizar na mesma. "
   ]
  },
  {
   "cell_type": "markdown",
   "metadata": {},
   "source": [
    "<div align=\"center\">\n",
    "<video width=\"600\" height=\"600\" controls>\n",
    "    <source src=\"alocaçao.mp4\" type=\"video/mp4\">\n",
    "</video>\n",
    "</div>"
   ]
  },
  {
   "cell_type": "markdown",
   "metadata": {},
   "source": [
    "As trilhas das placas podem ser feitas de forma manual ou automática, se sua escolha for manual, deve-se selecionar o ícone camada inferior na ferramenta camadas e objetos, utilizar o fio e fazer as ligações, ou pode utilizar o roteamento automático, onde o próprio sistema desenvolverá as trilhas, basta selecionar **Rota > Rota Automática**   e dependendo da complexidade do projeto estará pronto em poucos minutos.  Lembrando que nas duas formas pode-se alterar a espessura das trilhas entre outras especificações da mesma."
   ]
  },
  {
   "cell_type": "markdown",
   "metadata": {},
   "source": [
    "Antes de mais nada vc tem que especificar em que camada será realizada a trilha apresentada no ícone **camadas e objetos** , para este caso em especifico como se trata de uma placa predominantemete de componentes (PTH), escolheremos a camada inferior."
   ]
  },
  {
   "cell_type": "markdown",
   "metadata": {},
   "source": [
    "<div align=\"center\">\n",
    "<video width=\"600\" height=\"600\" controls>\n",
    "    <source src=\"trilhas.mp4\" type=\"video/mp4\">\n",
    "</video>\n",
    "</div>"
   ]
  },
  {
   "cell_type": "markdown",
   "metadata": {},
   "source": [
    "Vale atentar que a espessura da trilha vai depender do tanto de corrente que ela pode suportar (explique melhor)"
   ]
  },
  {
   "cell_type": "markdown",
   "metadata": {},
   "source": [
    "Se por acaso aparecer um **X** entre as ligações quando você começar a alocar os componentes na área da placa, isto representa um curto-circuito (falar consequencia sobre isso), logo deve-se mover e ajustar manualmente para que o mesmo nao ocorra."
   ]
  },
  {
   "cell_type": "markdown",
   "metadata": {},
   "source": [
    "Se quiseres adicionar algum material externo como parafuso ou outras ligações, pode utilizar algumas ferramentas PCB, selecionando e o realocando na placa."
   ]
  },
  {
   "cell_type": "markdown",
   "metadata": {},
   "source": [
    "A plataforma ainda nos proporciona a oportunidade de visualizar a nossa placa no formato 2D e 3D, sendo possível visualizar a forma real do componente se a empresa disponibilizar."
   ]
  },
  {
   "cell_type": "markdown",
   "metadata": {},
   "source": [
    "<div align=\"center\">\n",
    "<img src=\"2D.png\" alt=\"A\" width=\"600\">\n",
    "<img src=\"3D.png\" alt=\"A\" width=\"600\">\n",
    "</div>\n"
   ]
  },
  {
   "cell_type": "markdown",
   "metadata": {},
   "source": [
    "Tendo finalizado a nossa placa, salvamos novamente e selecionamos **Fabricação > Arquivo de fabricação PCB (Gerber)**, onde o layout da nossa placa estará pronto para a .  "
   ]
  },
  {
   "cell_type": "markdown",
   "metadata": {},
   "source": []
  }
 ],
 "metadata": {
  "kernelspec": {
   "display_name": "Python 3",
   "language": "python",
   "name": "python3"
  },
  "language_info": {
   "codemirror_mode": {
    "name": "ipython",
    "version": 3
   },
   "file_extension": ".py",
   "mimetype": "text/x-python",
   "name": "python",
   "nbconvert_exporter": "python",
   "pygments_lexer": "ipython3",
   "version": "3.10.6"
  }
 },
 "nbformat": 4,
 "nbformat_minor": 2
}
