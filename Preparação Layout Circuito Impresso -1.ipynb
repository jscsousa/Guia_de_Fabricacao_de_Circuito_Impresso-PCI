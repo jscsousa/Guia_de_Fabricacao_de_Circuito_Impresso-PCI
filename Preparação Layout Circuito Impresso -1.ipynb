{
 "cells": [
  {
   "cell_type": "markdown",
   "metadata": {},
   "source": [
    "# Preparação do Layout do Circuito Impresso"
   ]
  },
  {
   "cell_type": "markdown",
   "metadata": {},
   "source": [
    "O desenvolvimento de um circuito impresso (PCI) exige planejamento e atenção aos detalhes. Este guia oferece um passo a passo completo para criar seu layout de forma eficiente, desde o esboço inicial até a geração do arquivo final. Vamos começar!"
   ]
  },
  {
   "cell_type": "markdown",
   "metadata": {},
   "source": [
    "Antes de iniciar o layout, siga estes passos fundamentais:\n",
    "\n",
    "* Faça um desenho preliminar do esquema eletrônico, identificando os componentes e suas conexões.\n",
    "* Verifique os componentes necessários e suas especificações.\n",
    "* Defina a posição dos componentes para otimizar o espaço e evitar interferências entre trilhas."
   ]
  },
  {
   "cell_type": "markdown",
   "metadata": {},
   "source": [
    "##  Utilização do EasyEDA"
   ]
  },
  {
   "cell_type": "markdown",
   "metadata": {},
   "source": [
    "### 1- Criação do Projeto Esquematico"
   ]
  },
  {
   "cell_type": "markdown",
   "metadata": {},
   "source": [
    "O EasyEDA é um software que oferece serviços de forma online e gratuita para o usuário confeccionar circuitos eletrônicos e PCI (Placa de Circuito Impresso) de maneira bem rápida e simples. Para você começar a desenvolver sua PCI,  deve fazer login no aplicativo, acessando o endereço: https://easyeda.com. "
   ]
  },
  {
   "cell_type": "markdown",
   "metadata": {},
   "source": [
    "Crie um novo projeto, selecione a versão padrão e coloque nome e descrição do mesmo, logo podemos observar a área de trabalho espaço para criação do nosso desenho, apresentada na ilustração abaixo. "
   ]
  },
  {
   "cell_type": "markdown",
   "metadata": {},
   "source": [
    "<div align=\"center\">\n",
    "<img src=\"./AREA.png\" alt=\"A\" width=\"600\">\n",
    "</div>"
   ]
  },
  {
   "cell_type": "markdown",
   "metadata": {},
   "source": [
    "Na barra da lateral esquerda possui as bibliotecas utilizadas para acessar os componentes. Para utilizar o mesmo, deve apenas selecionar e arrastar para área de trabalho, a aba possui uma previa de componentes, mas você mesmo pode pesquisar e selecionar outros componentes fornecidos pela empresa ou até mesmo feitos por outros usuários."
   ]
  },
  {
   "cell_type": "markdown",
   "metadata": {},
   "source": [
    "<div align=\"center\">\n",
    "<video width=\"600\" height=\"600\" controls>\n",
    "    <source src=\"FERRAMENTAS.mp4\" type=\"video/mp4\">\n",
    "</video>\n",
    "</div>"
   ]
  },
  {
   "cell_type": "markdown",
   "metadata": {},
   "source": [
    "Para fazer as ligações dos componentes, utilizasse a tecla **W** ou selecionando o ícone de fio nas ferramentas de fiação, posicione e pressione na extremidade de um para outro componente da forma que melhor atender seu projeto. Vale ressaltar que para rotacionar um componente, utilizasse a tecla **R** ou a barra de espaço. "
   ]
  },
  {
   "cell_type": "markdown",
   "metadata": {},
   "source": [
    "<div align=\"center\">\n",
    "<video width=\"600\" height=\"600\" controls>\n",
    "    <source src=\"conexoes.mp4\" type=\"video/mp4\">\n",
    "</video>\n",
    "</div>"
   ]
  },
  {
   "cell_type": "markdown",
   "metadata": {},
   "source": [
    "### 2- Conversão para PCB"
   ]
  },
  {
   "cell_type": "markdown",
   "metadata": {},
   "source": [
    "Com o nosso projeto esquemático já finalizado, deve-se salvar o projeto na barra de ferramentas superior, posteriormente selecione o ícone **Projeto > Converter esquema em PCB**."
   ]
  },
  {
   "cell_type": "markdown",
   "metadata": {},
   "source": [
    "Nesta nova aba, aparece a configuração do tamanho e estilo da placa, que se ja estiver definido pode ser colocado ou apenas passar para proxima etapa e fazer as alterar mais a frente.\n",
    "\n",
    "\n",
    "(Ajuste o tamanho e o estilo da placa conforme necessário ou prossiga com as configurações padrão, podendo modificá-las posteriormente.)"
   ]
  },
  {
   "cell_type": "markdown",
   "metadata": {},
   "source": [
    "<div align=\"center\">\n",
    "<img src=\"configuraçoes.png\" alt=\"A\" width=\"600\">\n",
    "</div>"
   ]
  },
  {
   "cell_type": "markdown",
   "metadata": {},
   "source": [
    "Já podemos visualizar o projeto da nossa placa de circuito, com ligações e área predefinida. Precisamos alocar os componentes para área da placa quadriculada e os reorganizar na mesma. "
   ]
  },
  {
   "cell_type": "markdown",
   "metadata": {},
   "source": [
    "<div align=\"center\">\n",
    "<video width=\"600\" height=\"600\" controls>\n",
    "    <source src=\"alocaçao.mp4\" type=\"video/mp4\">\n",
    "</video>\n",
    "</div>"
   ]
  },
  {
   "cell_type": "markdown",
   "metadata": {},
   "source": [
    "As trilhas das placas podem ser feitas de forma manual ou automática, se sua escolha for manual, deve-se selecionar o ícone **camada inferior** na ferramenta camadas e objetos, utilizar o fio e fazer as ligações, ou pode utilizar o roteamento automático, onde o próprio sistema desenvolverá as trilhas, basta selecionar **Rota > Rota Automática**   e dependendo da complexidade do projeto estará pronto em poucos minutos.  Lembrando que nas duas formas pode-se alterar a espessura das trilhas entre outras especificações da mesma."
   ]
  },
  {
   "cell_type": "markdown",
   "metadata": {},
   "source": [
    "<div align=\"center\">\n",
    "<video width=\"600\" height=\"600\" controls>\n",
    "    <source src=\"trilhas.mp4\" type=\"video/mp4\">\n",
    "</video>\n",
    "</div>"
   ]
  },
  {
   "cell_type": "markdown",
   "metadata": {},
   "source": [
    "\n",
    "Vale ressaltar que espessura das trilhas deve ser adequada à corrente que irão suportar. Trilhas finas para alta corrente podem superaquecer e causar falhas.\n",
    "\n"
   ]
  },
  {
   "cell_type": "markdown",
   "metadata": {},
   "source": [
    "Se aparecer um **X** entre conexões durante a organização dos componentes, isso indica um curto-circuito. Reposicione os componentes ou ajuste as trilhas para resolver o problema."
   ]
  },
  {
   "cell_type": "markdown",
   "metadata": {},
   "source": [
    "Se quiseres adicionar algum material externo como parafuso ou outras ligações, pode utilizar algumas ferramentas PCB, selecionando e o realocando na placa."
   ]
  },
  {
   "cell_type": "markdown",
   "metadata": {},
   "source": [
    "Utilize as opções de visualização 2D e 3D para conferir o layout final e verificar se o projeto virtual está de acordo com a montagem física.\n",
    "\n",
    "\n",
    "(A plataforma ainda nos proporciona a oportunidade de visualizar a nossa placa no formato 2D e 3D, sendo possível visualizar a forma real do componente se a empresa disponibilizar.)"
   ]
  },
  {
   "cell_type": "markdown",
   "metadata": {},
   "source": [
    "<div align=\"center\">\n",
    "<img src=\"2D.png\" alt=\"A\" width=\"600\">\n",
    "<img src=\"3D.png\" alt=\"A\" width=\"600\">\n",
    "</div>\n"
   ]
  },
  {
   "cell_type": "markdown",
   "metadata": {},
   "source": [
    "Tendo finalizado a nossa placa, salvamos novamente e selecionamos **Fabricação > Arquivo de fabricação PCB (Gerber)**, onde o layout da nossa placa estará pronto para .  "
   ]
  },
  {
   "cell_type": "markdown",
   "metadata": {},
   "source": []
  }
 ],
 "metadata": {
  "kernelspec": {
   "display_name": "Python 3",
   "language": "python",
   "name": "python3"
  },
  "language_info": {
   "codemirror_mode": {
    "name": "ipython",
    "version": 3
   },
   "file_extension": ".py",
   "mimetype": "text/x-python",
   "name": "python",
   "nbconvert_exporter": "python",
   "pygments_lexer": "ipython3",
   "version": "3.10.6"
  }
 },
 "nbformat": 4,
 "nbformat_minor": 2
}
