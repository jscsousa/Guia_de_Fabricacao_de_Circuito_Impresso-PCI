{
 "cells": [
  {
   "cell_type": "markdown",
   "metadata": {},
   "source": [
    "# Preparação do Layout do Circuito Impresso"
   ]
  },
  {
   "cell_type": "markdown",
   "metadata": {},
   "source": [
    "O desenvolvimento de um circuito impresso (PCI) exige planejamento e atenção aos detalhes. Este guia oferece um passo a passo completo para criar seu layout de forma eficiente, desde o esboço inicial até a geração do arquivo final. Vamos começar!"
   ]
  },
  {
   "cell_type": "markdown",
   "metadata": {},
   "source": [
    "Antes de iniciar o layout, siga os seguintes passos:\n",
    "\n",
    "* Faça um desenho preliminar do esquema eletrônico.\n",
    "* Verifique os componentes necessários e suas especificações."
   ]
  },
  {
   "cell_type": "markdown",
   "metadata": {},
   "source": [
    "Neste guia, desenvolveremos um circuito simples para acender um LED com um interruptor. O circuito será totalmente PTH (Plated Through Hole), que são componentes que atravessam a surpeficie da placa, facilitando sua montagem e soldagem. A Figura 1 apresenta o esboço do circuito que será implementado.\n",
    "\n"
   ]
  },
  {
   "cell_type": "markdown",
   "metadata": {},
   "source": [
    "<div align=\"center\">\n",
    "<img src=\"./imagens/rascunho(1).jpg\" alt=\"A\" width=\"600\">\n",
    "</div>"
   ]
  },
  {
   "cell_type": "markdown",
   "metadata": {},
   "source": [
    "$$\n",
    "\\text{Figura 1 - Desenho do circuito.}\n",
    "$$"
   ]
  },
  {
   "cell_type": "markdown",
   "metadata": {},
   "source": [
    "Decrição dos componentes:\n",
    "- 1 conector PTH, para conexão da fonte de alimentação;\n",
    "- 1 led PTH (vermelho, amarelo, laranja ou verde), ambos possuem a mesma tensão de ativação e podem ser utilizadas neste circuito em especifico;\n",
    "- 1 resistor de 100 ohms;\n",
    "- 1 botão ou chave PTH;\n",
    "\n",
    "\n"
   ]
  },
  {
   "cell_type": "markdown",
   "metadata": {},
   "source": [
    "##  Utilização do EasyEDA"
   ]
  },
  {
   "cell_type": "markdown",
   "metadata": {},
   "source": [
    "### 1. Criação do Projeto Esquematico"
   ]
  },
  {
   "cell_type": "markdown",
   "metadata": {},
   "source": [
    "O EasyEDA é um software que oferece serviços de forma online e gratuita para o usuário confeccionar circuitos eletrônicos e PCI (Placa de Circuito Impresso) de maneira bem rápida e simples. Para você começar a desenvolver sua PCI, faça login na plataforma, acessando o endereço: https://easyeda.com. "
   ]
  },
  {
   "cell_type": "markdown",
   "metadata": {},
   "source": [
    "Crie um novo projeto, selecione a versão padrão e coloque nome e descrição do arquivo, logo podemos observar a área de trabalho espaço para criação do nosso desenho, apresentado na Figura 2. "
   ]
  },
  {
   "cell_type": "markdown",
   "metadata": {},
   "source": [
    "<div align=\"center\">\n",
    "<img src=\"./imagens/AREA.png\" alt=\"A\" width=\"600\">\n",
    "</div>"
   ]
  },
  {
   "cell_type": "markdown",
   "metadata": {},
   "source": [
    "$$\n",
    "\\text{Figura 2 - Área de trabalho.}\n",
    "$$"
   ]
  },
  {
   "cell_type": "markdown",
   "metadata": {},
   "source": [
    "A barra da lateral esquerda apresenta as bibliotecas utilizadas para acessar os componentes. A seleção pode ser feita utilizando a **Biblioteca de uso comum**, que possui uma previa dos componentes, onde deve-se selecionar o componente desejado e arrasta-lo para área de trabalho, também, pode ser utilizado a **Estante de livros**, onde pode selecionar os componentes fornecidos pela empresa ou feitos pelos usuários."
   ]
  },
  {
   "cell_type": "markdown",
   "metadata": {},
   "source": [
    "A primeiro momento, adicione todos os componentes do projeto na nossa área de trabalho, faça o processo acompanhando o Video 1, disponível: https://youtu.be/-m3Xuh7ckM4."
   ]
  },
  {
   "cell_type": "markdown",
   "metadata": {},
   "source": [
    "Para fazer as ligações dos componentes, utilizasse a tecla **W** ou selecionando o ícone de fio nas ferramentas de fiação, posicione e pressione na extremidade de um para outro componente da forma que melhor atender seu projeto. Vale ressaltar que para rotacionar um componente, utilizasse a tecla **R** ou a barra de espaço. "
   ]
  },
  {
   "cell_type": "markdown",
   "metadata": {},
   "source": [
    "Utilizando estas informações inicie as conexões dos componentes, seguindo as conexões ja predefinidas no desenho de rascunho do circuito, acompanhe o procedimento no video 2, diponivel em: https://youtu.be/i471UyEOV5M."
   ]
  },
  {
   "cell_type": "markdown",
   "metadata": {},
   "source": [
    "### 2. Conversão para PCB"
   ]
  },
  {
   "cell_type": "markdown",
   "metadata": {},
   "source": [
    "Com o nosso projeto esquemático conclúido, o próximo passo é converte-lo em uma placa de ciruito impresso. Salve o projeto na barra de ferramentas superior e selecione o ícone **Projeto > Converter esquema em PCB**."
   ]
  },
  {
   "cell_type": "markdown",
   "metadata": {},
   "source": [
    "Na tela a seguir apresentada na Figura 3, ajuste o tamanho e o estilo da placa conforme necessário ou prossiga com as configurações padrão, podendo modificá-las posteriormente."
   ]
  },
  {
   "cell_type": "markdown",
   "metadata": {},
   "source": [
    "<div align=\"center\">\n",
    "<img src=\"./imagens/configuraçoes.png\" alt=\"A\" width=\"600\">\n",
    "</div>"
   ]
  },
  {
   "cell_type": "markdown",
   "metadata": {},
   "source": [
    "$$\n",
    "\\text{Figura 3 - Configurações da Placa.}\n",
    "$$"
   ]
  },
  {
   "cell_type": "markdown",
   "metadata": {},
   "source": [
    "Já podemos visualizar o projeto da nossa placa de circuito, com a área predefinida e  linhas azuis que sao guias para as trilhas que seram feitas. Precisamos alocar os componentes para área da placa quadriculada e os reorganizar na mesma, posicione-os estrategicamente para otimizar o espaço e facilitar o roteamento das trilhas. Essa organização pode ser acompanhada no Vídeo 3 disponivel em : https://youtu.be/9Suqxhlq2GE."
   ]
  },
  {
   "cell_type": "markdown",
   "metadata": {},
   "source": [
    "Acompanhe o processo de roteamento manual no vídeo 4 disponivel em: https://youtu.be/DZKg_ia9GWg."
   ]
  },
  {
   "cell_type": "markdown",
   "metadata": {},
   "source": [
    "Acompanhe o processo de roteamento automático no vídeo 5 disponivel em: https://youtu.be/kfY_oAxDC00."
   ]
  },
  {
   "cell_type": "markdown",
   "metadata": {},
   "source": [
    "Se quiseres adicionar algum material externo como parafuso ou outras ligações, pode utilizar algumas ferramentas PCB, selecionando e o realocando na placa."
   ]
  },
  {
   "cell_type": "markdown",
   "metadata": {},
   "source": [
    "### 3. Visualização e Finalização"
   ]
  },
  {
   "cell_type": "markdown",
   "metadata": {},
   "source": [
    "\n",
    "O EasyEDA oferece opções de visualização em 2D e 3D, permitindo o layout final antes de enviá-lo para fabricação. Essa funcionalidade ajuda a garantir que o design virtual esteja em conformidade com a montagem física correta. Inspeção das conexões, disposição dos componentes e aparência geral da placa."
   ]
  },
  {
   "cell_type": "markdown",
   "metadata": {},
   "source": [
    "As pré-visualizações em 2D e 3D podem ser vistas nas Figuras 4 e 5, respectivamente. "
   ]
  },
  {
   "cell_type": "markdown",
   "metadata": {},
   "source": [
    "<div align=\"center\">\n",
    "<img src=\"./imagens/2D.png\" alt=\"A\" width=\"600\">\n",
    "</div>"
   ]
  },
  {
   "cell_type": "markdown",
   "metadata": {},
   "source": [
    "$$\n",
    "\\text{Figura 4 - Visualização 2D.}\n",
    "$$"
   ]
  },
  {
   "cell_type": "markdown",
   "metadata": {},
   "source": [
    "<div align=\"center\">\n",
    "<img src=\"./imagens/3D.png\" alt=\"A\" width=\"600\">\n",
    "</div>\n"
   ]
  },
  {
   "cell_type": "markdown",
   "metadata": {},
   "source": [
    "$$\n",
    "\\text{Figura 5 - Visualização 3D.}\n",
    "$$"
   ]
  },
  {
   "cell_type": "markdown",
   "metadata": {},
   "source": [
    "Após concluir o layout, salve novamente o projeto e acesse a opção **Fabricação > Arquivo de fabricação PCB (Gerber)**. Esse arquivo é o formato padrão utilizado para enviar o projeto aos fabricantes de PCBs."
   ]
  },
  {
   "cell_type": "markdown",
   "metadata": {},
   "source": [
    "Se o seu objetivo é fabricar uma placa de circuito impresso manualmente, acompanhe os dois próximos processos de fabricação."
   ]
  },
  {
   "cell_type": "markdown",
   "metadata": {},
   "source": [
    "### Orientações\n",
    "- Certifique-se de que as trilhas tenham espessuras específicas para resistir à corrente elétrica que irá direcionar. Trilhas muito finas podem superaquecer e causar falhas no circuito. \n",
    "- Fique atento a possíveis curtos-circuitos. Se um **\"X\"** aparecer entre as conexões ao organizar os componentes, reposicione ou ajuste as trilhas para corrigir o problema."
   ]
  }
 ],
 "metadata": {
  "kernelspec": {
   "display_name": "Python 3",
   "language": "python",
   "name": "python3"
  },
  "language_info": {
   "codemirror_mode": {
    "name": "ipython",
    "version": 3
   },
   "file_extension": ".py",
   "mimetype": "text/x-python",
   "name": "python",
   "nbconvert_exporter": "python",
   "pygments_lexer": "ipython3",
   "version": "3.10.6"
  }
 },
 "nbformat": 4,
 "nbformat_minor": 2
}
