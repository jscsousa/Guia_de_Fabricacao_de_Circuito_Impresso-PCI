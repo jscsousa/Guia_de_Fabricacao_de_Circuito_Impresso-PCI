{
 "cells": [
  {
   "cell_type": "markdown",
   "metadata": {},
   "source": [
    "# Preparação Para o Processo de Corrosão"
   ]
  },
  {
   "cell_type": "markdown",
   "metadata": {},
   "source": [
    "Para fazer o processo de corrosão, utiliza-se um processo de transferencia de vinil para a placa de fenolite, afim  de isolar as trilhas, este processo é realizado na CNC Laser, onde o arquivo de corte é gerado pelo inkscape, todo este processo será detalhado abaixo nas seguintes etapas:"
   ]
  },
  {
   "cell_type": "markdown",
   "metadata": {},
   "source": [
    "### 1. Utilização do inkscape"
   ]
  },
  {
   "cell_type": "markdown",
   "metadata": {},
   "source": [
    "oddjdjdfj"
   ]
  },
  {
   "cell_type": "markdown",
   "metadata": {},
   "source": [
    "### 2. Preparação da placa"
   ]
  },
  {
   "cell_type": "markdown",
   "metadata": {},
   "source": [
    "### 3. Processo de corrosão"
   ]
  }
 ],
 "metadata": {
  "kernelspec": {
   "display_name": "Python 3",
   "language": "python",
   "name": "python3"
  },
  "language_info": {
   "name": "python",
   "version": "3.10.6"
  }
 },
 "nbformat": 4,
 "nbformat_minor": 2
}
