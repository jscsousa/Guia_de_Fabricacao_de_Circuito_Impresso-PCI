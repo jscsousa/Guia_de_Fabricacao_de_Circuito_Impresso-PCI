{
 "cells": [
  {
   "cell_type": "markdown",
   "metadata": {},
   "source": [
    "# Preparação Para o Processo de Corrosão"
   ]
  },
  {
   "cell_type": "markdown",
   "metadata": {},
   "source": [
    "Para realizar o processo de corrosão, utiliza-se a transferência de vinil para a placa de fenolite, com o objetivo de isolar as trilhas. Este processo é realizado com o auxílio de uma CNC Laser e será detalhado nas etapas a seguir:"
   ]
  },
  {
   "cell_type": "markdown",
   "metadata": {},
   "source": [
    "Materiais Necessários:\n",
    "\n",
    "- Placa de Fenolite;\n",
    "\n",
    "- Palha de Aço;\n",
    "\n",
    "- Adesivo Vinil;\n",
    "\n",
    "- CNC LASER;\n",
    "\n",
    "- Dois recipientes;\n",
    "\n",
    "- Balança de Precisão;\n",
    "\n",
    "- Água;\n",
    "\n",
    "- Uma Pinça;\n",
    "\n",
    "- Percloreto de Ferro;\n",
    "\n",
    "- Luvas de látex;"
   ]
  },
  {
   "cell_type": "markdown",
   "metadata": {},
   "source": [
    "### 1. Utilização do inkscape"
   ]
  },
  {
   "cell_type": "markdown",
   "metadata": {},
   "source": [
    "Tendo finalizado o layout da sua PCB, acesse o ícone **Arquivo > Exportar > SVG**, assim será gerado um arquivo do designer em formato vetorizado. Para exportação do arquivo extraia os seguintes camadas: Camada inferior e furos. "
   ]
  },
  {
   "cell_type": "markdown",
   "metadata": {},
   "source": [
    "O próximo passo é preparar o arquivo para corte das trilhas na CNC Laser. Para isso:\n",
    "\n",
    "1. Baixe e instale o Inkscape pelo site: https://inkscape.softonic.com.br/.\n",
    "\n",
    "2. Abra o arquivo SVG no Inkscape.\n",
    "\n",
    "3. Pressione Ctrl+A para selecionar todo o desenho.\n",
    "\n",
    "4. Acesse **Caminho > Converter Contorno em Caminhos**.\n",
    "\n",
    "5. Na barra inferior à esquerda, clique no **\"X\"** e selecione a cor vermelha com o botão direito do mouse. Em seguida, clique em **Aplicar ao Contorno**.\n",
    "\n",
    "6. Acesse **Preenchimento e Contorno > Estilo do Contorno** e configure em contorno mínimo.\n",
    "\n",
    "7. Apague as linhas das bordas, selecionando-as e pressionando **Delete**.\n",
    "\n",
    "8. Redimensione o desenho para ajustar às extremidades das trilhas em **Arquivo > Propriedades do Documento > Exibição > Redimensionar para o Conteúdo**.\n",
    "\n"
   ]
  },
  {
   "cell_type": "markdown",
   "metadata": {},
   "source": [
    "Posteriormente salve o arquivo e abra-o no software K40 para prosseguir com o corte. Caso precise de ajuda, consulte o vídeo tutorial disponível em: ..........\n"
   ]
  },
  {
   "cell_type": "markdown",
   "metadata": {},
   "source": [
    "### 2. Utilização K40\n",
    "- explicação da utilização da ferramenta\n",
    "- preparação da placa: limpeza com palha de aço, aplicação de vinil\n",
    "- potencia corte\n",
    "- apresentar resultado do corte\n",
    "\n"
   ]
  },
  {
   "cell_type": "markdown",
   "metadata": {},
   "source": [
    "O K40 funiciona como uma interface de comunicação com a CNC laser,....."
   ]
  },
  {
   "cell_type": "markdown",
   "metadata": {},
   "source": [
    "O primeiro passo antes de mais nada é preparar a placa para o corte, verifique o tamanho da sua placa e recorte uma area um pouco maior, em seguida com uma palha de aço voce ira limpar a placa para facilitar o processo de corrosão, secetivamente aplicar sobre a superficie da mesma o vinil , de forma que fique bem fixo e sem bolhas de ar."
   ]
  },
  {
   "cell_type": "markdown",
   "metadata": {},
   "source": [
    "Feito isso, colocamos a placa na maquina, ajustamos a altura do laser com o ... acima do material, para maior precisão do corte. "
   ]
  },
  {
   "cell_type": "markdown",
   "metadata": {},
   "source": [
    "Com o arquivo aberto no software, ajustamos a origem...\n",
    "(verificar passo a passo)"
   ]
  },
  {
   "cell_type": "markdown",
   "metadata": {},
   "source": [
    "### 3. Processo de corrosão"
   ]
  },
  {
   "cell_type": "markdown",
   "metadata": {},
   "source": [
    "Ápos as demamarcações já feitas retire o excesso de vinil, de forma que a unica area que fique sobreposta sobre a placa, seja apenas as trilhas do circuito como a apresentada abaixo na figura n."
   ]
  },
  {
   "cell_type": "markdown",
   "metadata": {},
   "source": [
    "\"figura\""
   ]
  },
  {
   "cell_type": "markdown",
   "metadata": {},
   "source": [
    "Para preparar a solução para o processo de corrosão, precisa-se de uma quantidade especica de agua e de percloreto de ferro, que vai depender do tamanhp da placa e do seu recipiente, logo para saber a quantidade certa para utilizar trabalhamos com a seguinte proporção de regra de tres:"
   ]
  },
  {
   "cell_type": "markdown",
   "metadata": {},
   "source": [
    "Para cada 4 gramas de água para 1 de ácido"
   ]
  },
  {
   "cell_type": "markdown",
   "metadata": {},
   "source": [
    "Logo pesa-se com auxilio de uma balança de precisão cada elemento separamente, com as quantidades proporcionais especificas para este experimento, todo processo deve ser feito com muito cuidado utilizando uma luva e evitando qualquer tipo de contato direto com o percloreto de ferro."
   ]
  },
  {
   "cell_type": "markdown",
   "metadata": {},
   "source": [
    "Tendo feito isto despeje a água separada no recipiente contendo o ácido, em seguida coloque a placa e mecha suavemente, o processo de corrosão pode durar de 10 a 15 minutos."
   ]
  },
  {
   "cell_type": "markdown",
   "metadata": {},
   "source": [
    "Quando a placa estiver totalmente corroida retire a placa com o auxilio de uma pinça, despeje a solução em outro recipinete (explicar a questao de despejo da solução)"
   ]
  },
  {
   "cell_type": "markdown",
   "metadata": {},
   "source": [
    "Lave a placa e retire o vinil que esta cobrindo as trilhas, logo voce podera visualizar que apenas a area coberta pelo vinil nao foi corroida, apresentada na figura abaixo."
   ]
  },
  {
   "cell_type": "markdown",
   "metadata": {},
   "source": [
    "\"figura\""
   ]
  },
  {
   "cell_type": "markdown",
   "metadata": {},
   "source": [
    "Sua placa de fenolite esta pronta para ser soldada!!"
   ]
  },
  {
   "cell_type": "markdown",
   "metadata": {},
   "source": [
    "Orientações:\n",
    "- O Percloreto de ferro é um ácido muito sensivel a umidade, logo deve evitar deixar aberto sem precisão durante o procedimento.\n",
    "- "
   ]
  },
  {
   "cell_type": "markdown",
   "metadata": {},
   "source": []
  }
 ],
 "metadata": {
  "kernelspec": {
   "display_name": "Python 3",
   "language": "python",
   "name": "python3"
  },
  "language_info": {
   "name": "python",
   "version": "3.10.6"
  }
 },
 "nbformat": 4,
 "nbformat_minor": 2
}
