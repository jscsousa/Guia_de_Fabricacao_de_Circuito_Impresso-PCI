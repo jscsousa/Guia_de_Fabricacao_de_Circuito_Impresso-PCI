{
 "cells": [
  {
   "cell_type": "markdown",
   "metadata": {},
   "source": [
    "# Preparação Para o Processo de Corrosão"
   ]
  },
  {
   "cell_type": "markdown",
   "metadata": {},
   "source": [
    "Para fazer o processo de corrosão, utiliza-se um processo de transferencia de vinil para a placa de fenolite, afim  de isolar as trilhas, este processo é realizado na CNC Laser, onde o arquivo de corte é gerado pelo inkscape, todo este processo será detalhado abaixo nas seguintes etapas:"
   ]
  },
  {
   "cell_type": "markdown",
   "metadata": {},
   "source": [
    "Materiais que vc irá precisar:"
   ]
  },
  {
   "cell_type": "markdown",
   "metadata": {},
   "source": [
    "### 1. Utilização do inkscape"
   ]
  },
  {
   "cell_type": "markdown",
   "metadata": {},
   "source": [
    "Tendo finalizado o layout da sua PCB, acesse o ícone **Arquivo > Exportar > SVG**, assim será gerado um arquivo do designer em formato vetorizado. Para exportação do arquivo extraia os seguintes camadas: Camada inferior e furos. "
   ]
  },
  {
   "cell_type": "markdown",
   "metadata": {},
   "source": [
    "Para preparar o arquivo para corte das trilhas na CNC laser, deve configurar o mesmo no software inkscape, para baixa-lo acesse o site: https://inkscape.softonic.com.br/ "
   ]
  },
  {
   "cell_type": "markdown",
   "metadata": {},
   "source": [
    "O primeiro passo é abrir o arquio SVG no software, pressiona crt+a para selecionar todo o desenho, ir em contorno > converta contorno em caminhos, em x e selecionar em aplicar ao contorno, em  contorno selecione, corntorno minimo. (organizar informações)"
   ]
  },
  {
   "cell_type": "markdown",
   "metadata": {},
   "source": [
    "### 2. Utilização K40\n",
    "- explicação da utilização da ferramenta\n",
    "- preparação da placa: limpeza com palha de aço, aplicação de vinil\n",
    "- potencia corte\n",
    "- apresentar resultado do corte\n",
    "\n"
   ]
  },
  {
   "cell_type": "markdown",
   "metadata": {},
   "source": [
    "### 3. Processo de corrosão"
   ]
  },
  {
   "cell_type": "markdown",
   "metadata": {},
   "source": [
    "Ápos as demamarcações já feitas retire o excesso de vinil, de forma que a unica area que fique sobreposta sobre a placa, seja apenas as trilhas do circuito."
   ]
  },
  {
   "cell_type": "markdown",
   "metadata": {},
   "source": [
    "Para preparar a solução para o processo de corrosão, selecione um recipiente "
   ]
  }
 ],
 "metadata": {
  "kernelspec": {
   "display_name": "Python 3",
   "language": "python",
   "name": "python3"
  },
  "language_info": {
   "name": "python",
   "version": "3.10.6"
  }
 },
 "nbformat": 4,
 "nbformat_minor": 2
}
