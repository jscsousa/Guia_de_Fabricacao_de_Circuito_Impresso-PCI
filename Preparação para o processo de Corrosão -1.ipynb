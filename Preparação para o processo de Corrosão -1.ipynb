{
 "cells": [
  {
   "cell_type": "markdown",
   "metadata": {},
   "source": [
    "# Preparação Para o Processo de Corrosão"
   ]
  },
  {
   "cell_type": "markdown",
   "metadata": {},
   "source": [
    "Para fazer o processo de corrosão, utiliza-se um processo de transferencia de vinil para a placa de fenolite, afim  de isolar as trilhas, este processo é realizado na CNC Laser, onde o arquivo de corte é gerado pelo inkscape, todo este processo será detalhado abaixo nas seguintes etapas:"
   ]
  },
  {
   "cell_type": "markdown",
   "metadata": {},
   "source": [
    "Materiais que vc irá precisar:"
   ]
  },
  {
   "cell_type": "markdown",
   "metadata": {},
   "source": [
    "### 1. Utilização do inkscape"
   ]
  },
  {
   "cell_type": "markdown",
   "metadata": {},
   "source": [
    "Tendo finalizado o layout da sua PCB, acesse o ícone **Arquivo > Exportar > SVG**, assim será gerado um arquivo do designer em formato vetorizado. Para exportação do arquivo extraia os seguintes camadas: Camada inferior e furos. "
   ]
  },
  {
   "cell_type": "markdown",
   "metadata": {},
   "source": [
    "Para preparar o arquivo para corte das trilhas na CNC laser, deve configurar o mesmo no software inkscape, para baixa-lo acesse o site: https://inkscape.softonic.com.br/ "
   ]
  },
  {
   "cell_type": "markdown",
   "metadata": {},
   "source": [
    "O primeiro passo é abrir o arquio SVG no software, pressione crt+a para selecionar todo o desenho, acesse no comando da barra superior **Caminho > converter Contorno em Caminhos**."
   ]
  },
  {
   "cell_type": "markdown",
   "metadata": {},
   "source": [
    "Em seguida, selicione o **\"X\"** na barra inferior canto esquerdo, aplique a cor vermelho  para corte clicando no botão direito do mouse e selecionando em aplicar ao contorno. "
   ]
  },
  {
   "cell_type": "markdown",
   "metadata": {},
   "source": [
    "No icone da barra lateral esquerda **Preenchimento e Contorno > Estilo do contorno**, selecione contorno minimo."
   ]
  },
  {
   "cell_type": "markdown",
   "metadata": {},
   "source": [
    "### 2. Utilização K40\n",
    "- explicação da utilização da ferramenta\n",
    "- preparação da placa: limpeza com palha de aço, aplicação de vinil\n",
    "- potencia corte\n",
    "- apresentar resultado do corte\n",
    "\n"
   ]
  },
  {
   "cell_type": "markdown",
   "metadata": {},
   "source": [
    "### 3. Processo de corrosão"
   ]
  },
  {
   "cell_type": "markdown",
   "metadata": {},
   "source": [
    "Ápos as demamarcações já feitas retire o excesso de vinil, de forma que a unica area que fique sobreposta sobre a placa, seja apenas as trilhas do circuito."
   ]
  },
  {
   "cell_type": "markdown",
   "metadata": {},
   "source": [
    "Para preparar a solução para o processo de corrosão, selecione um recipiente "
   ]
  },
  {
   "cell_type": "markdown",
   "metadata": {},
   "source": [
    "O processo de corrosão consistiu em vetorizar o desenho da antena em formato SVG, que foi transferido para uma placa de fenolite coberta com vinil adesivo. Esse vinil foi cortado superficialmente com uma máquina CNC a laser, de modo a expor apenas as áreas específicas do vinil para a corrosão. A placa de fenolite foi então submersa em uma solução de água e percloreto de ferro na proporção adequada. A corrosão ocorreu nas áreas não cobertas pelo vinil, removendo o cobre e deixando exposta a área delimitada da antena microfita, ilustrado nas Figuras 1 e 2."
   ]
  }
 ],
 "metadata": {
  "kernelspec": {
   "display_name": "Python 3",
   "language": "python",
   "name": "python3"
  },
  "language_info": {
   "name": "python",
   "version": "3.10.6"
  }
 },
 "nbformat": 4,
 "nbformat_minor": 2
}
