{
 "cells": [
  {
   "cell_type": "markdown",
   "metadata": {},
   "source": [
    "# Preparação Para o Processo de Corrosão"
   ]
  },
  {
   "cell_type": "markdown",
   "metadata": {},
   "source": [
    "Este guia tem como objetivo orientar o processo de fabricação de placas de circuito impresso (PCBs) utilizando a técnica de corrosão química com percloreto de ferro. Aqui, detalharemos as etapas necessárias, desde a preparação do arquivo para corte do vinil realizado na CNC Laser até o descarte correto dos materiais utilizados."
   ]
  },
  {
   "cell_type": "markdown",
   "metadata": {},
   "source": [
    "Materiais Necessários:\n",
    "\n",
    "- Placa de Fenolite;\n",
    "\n",
    "- Palha de Aço;\n",
    "\n",
    "- Adesivo Vinil;\n",
    "\n",
    "- CNC LASER;\n",
    "\n",
    "- Dois recipientes;\n",
    "\n",
    "- Balança de Precisão;\n",
    "\n",
    "- Água;\n",
    "\n",
    "- Uma Pinça;\n",
    "\n",
    "- Percloreto de Ferro;\n",
    "\n",
    "- Luvas de látex;"
   ]
  },
  {
   "cell_type": "markdown",
   "metadata": {},
   "source": [
    "### 1. Utilização do Inkscape"
   ]
  },
  {
   "cell_type": "markdown",
   "metadata": {},
   "source": [
    "Tendo finalizado o layout da sua PCB, acesse o ícone **Arquivo > Exportar > SVG**, assim será gerado um arquivo do designer em formato vetorizado. Para exportação do arquivo extraia os seguintes camadas: Camada inferior e multistrato."
   ]
  },
  {
   "cell_type": "markdown",
   "metadata": {},
   "source": [
    "O próximo passo é preparar o arquivo para corte das trilhas na CNC Laser. Para isso:\n",
    "1. Baixe e instale o Inkscape pelo site: https://inkscape.softonic.com.br/.\n",
    "\n",
    "2. Abra o arquivo SVG no Inkscape.\n",
    "\n",
    "3. Pressione Ctrl+A para selecionar todo o desenho.\n",
    "\n",
    "4. Acesse **Caminho > Converter Contorno em Caminhos**.\n",
    "\n",
    "5. Na barra inferior à esquerda, clique no **\"X\"** e selecione a cor vermelha com o botão direito do mouse. Em seguida, clique em **Aplicar ao Contorno**.\n",
    "\n",
    "6. Acesse **Preenchimento e Contorno > Estilo do Contorno** e configure em contorno mínimo.\n",
    "\n",
    "7. Apague as linhas das bordas, selecionando-as e pressionando **Delete**.\n",
    "\n",
    "8. Vá em **Camada e Objetos** apague todos os circulos de cada pasta, em seguida retire os outros arquivos das pastas, selecione todos e clique icone **Caminho > União**, afim de deixar apenas as estremidades da trilhas em evidência.\n",
    "\n",
    "9. Redimensione o desenho para ajustar às extremidades das trilhas em **Arquivo > Propriedades do Documento > Exibição > Redimensionar para o Conteúdo**."
   ]
  },
  {
   "cell_type": "markdown",
   "metadata": {},
   "source": [
    "Posteriormente salve o arquivo e abra-o no software K40 para prosseguir com o corte. Caso precise de ajuda, consulte o Video 6 disponível em: https://youtu.be/GpCUp0-98Ig.\n"
   ]
  },
  {
   "cell_type": "markdown",
   "metadata": {},
   "source": [
    "### 2. Utilização K40\n",
    "\n"
   ]
  },
  {
   "cell_type": "markdown",
   "metadata": {},
   "source": [
    "O K40 é um software usado como interface de comunicação com a CNC Laser, permitindo configurar os parâmetros de corte, como a  potência do laser. Aqui estão as instruções detalhadas para seu uso:\n",
    "\n",
    "1. Certifique-se de que o K40 está conectado corretamente à CNC Laser.\n",
    "\n",
    "2. Abra o arquivo preparado no mesmo e configure a origem do corte.\n",
    "\n",
    "3. Ajuste a potência do laser conforme o material da placa de fenolite. Recomenda-se realizar testes em uma área de descarte antes de iniciar o corte definitivo.\n",
    "\n",
    "4. Posicione a placa na máquina e ajuste a altura do laser para garantir precisão. Isso pode ser feito utilizando espaçadores ou guias específicos do equipamento."
   ]
  },
  {
   "cell_type": "markdown",
   "metadata": {},
   "source": [
    "Preparação da Placa:\n",
    "\n",
    "- Corte a placa de fenolite em um tamanho um pouco maior que o necessário.\n",
    "\n",
    "- Limpe a placa com palha de aço para remover impurezas e facilitar a adesão do vinil.\n",
    "\n",
    "- Aplique o adesivo vinil sobre a superfície da placa, garantindo que esteja bem fixo e sem bolhas de ar.\n"
   ]
  },
  {
   "cell_type": "markdown",
   "metadata": {},
   "source": [
    "Após o corte, remova o excesso de vinil, deixando apenas as trilhas do circuito cobertas, como a apresentada na Figura 1."
   ]
  },
  {
   "cell_type": "markdown",
   "metadata": {},
   "source": [
    "<div align=\"center\">\n",
    "<img src=\"./imagens/demarcação do vinil.jpg\" alt=\"A\" width=\"600\">\n",
    "</div>"
   ]
  },
  {
   "cell_type": "markdown",
   "metadata": {},
   "source": [
    "$$\n",
    "\\text{Figura 1 - Demarcação do vinil.}\n",
    "$$"
   ]
  },
  {
   "cell_type": "markdown",
   "metadata": {},
   "source": [
    "### 3. Processo de corrosão"
   ]
  },
  {
   "cell_type": "markdown",
   "metadata": {},
   "source": [
    "Com as marcações prontas, prepare a solução para corrosão. A quantidade de água e percloreto de ferro depende do tamanho da placa e do recipiente utilizado. Para determinar as proporções corretas, utilize a seguinte regra de três:\n",
    "\n",
    "- Para cada 4 g de água, utilize 1 g de percloreto de ferro."
   ]
  },
  {
   "cell_type": "markdown",
   "metadata": {},
   "source": [
    "Por exemplo, se formos utilizar 78 g de água para a solução:\n",
    "\n",
    "Divida a quantidade de agua por 4 para determinar a quantidade de percloreto de ferro (78 / 4 = 19,5 g).\n",
    "\n"
   ]
  },
  {
   "cell_type": "markdown",
   "metadata": {},
   "source": [
    "Passos:\n",
    "\n",
    "- Meça os componentes separadamente utilizando a balança de precisão.\n",
    "\n",
    "- Despeje a água no recipiente e adicione o percloreto de ferro cuidadosamente. Use luvas para evitar contato direto com o ácido.\n",
    "\n",
    "- Mergulhe a placa na solução e agite suavemente. O processo de corrosão leva entre 10 e 15 minutos.\n"
   ]
  },
  {
   "cell_type": "markdown",
   "metadata": {},
   "source": [
    "Quando a placa estiver totalmente corroída retire-a com o auxílio de uma pinça, lave a placa em água corrente para remover os resíduos de percloreto e remova o vinil das trilhas, deixando visíveis as trilhas do circuito.\n"
   ]
  },
  {
   "cell_type": "markdown",
   "metadata": {},
   "source": [
    "Quanto ao desgaste da solução, nunca despeje o percloreto de ferro diretamente no esgoto ou no solo, pois ele é altamente poluente. Armazene a solução usada em um recipiente adequado e leve-a para um ponto de coleta de resíduos químicos ou recicle-a utilizando métodos apropriados, como a precipitação de metais."
   ]
  },
  {
   "cell_type": "markdown",
   "metadata": {},
   "source": [
    "Tendo finalizado o processo de corrosão voce podera visualizar que apenas a area coberta pelo vinil nao foi corroida, apresentada na Figura 2 abaixo."
   ]
  },
  {
   "cell_type": "markdown",
   "metadata": {},
   "source": [
    "<div align=\"center\">\n",
    "<img src=\"./imagens/PCI por corrosão.jpg\" alt=\"A\" width=\"600\">\n",
    "</div>"
   ]
  },
  {
   "cell_type": "markdown",
   "metadata": {},
   "source": [
    "$$\n",
    "\\text{Figura 2 - Placa finalizada por corrosão.}\n",
    "$$"
   ]
  },
  {
   "cell_type": "markdown",
   "metadata": {},
   "source": [
    "Logo sua placa de fenolite está pronta para colocar os componentes e soldá-los."
   ]
  },
  {
   "cell_type": "markdown",
   "metadata": {},
   "source": [
    "Orientações:\n",
    "- O percloreto de ferro é sensível à umidade. Evite deixá-lo exposto desnecessariamente durante o procedimento.\n",
    "- Certifique-se de seguir as boas práticas de segurança ao manusear ácidos e equipamentos de corte."
   ]
  }
 ],
 "metadata": {
  "kernelspec": {
   "display_name": "Python 3",
   "language": "python",
   "name": "python3"
  },
  "language_info": {
   "name": "python",
   "version": "3.10.6"
  }
 },
 "nbformat": 4,
 "nbformat_minor": 2
}
